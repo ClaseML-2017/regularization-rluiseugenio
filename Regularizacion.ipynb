{
 "cells": [
  {
   "cell_type": "code",
   "execution_count": 21,
   "metadata": {},
   "outputs": [
    {
     "name": "stdout",
     "output_type": "stream",
     "text": [
      "Valor mínimo del error: 0.000449009164394\n"
     ]
    },
    {
     "data": {
      "image/png": "[encoded data removed]",
      "text/plain": [
       "<matplotlib.figure.Figure at 0x13a30450>"
      ]
     },
     "metadata": {},
     "output_type": "display_data"
    }
   ],
   "source": [
    "import numpy as np   \n",
    "import pandas as pd\n",
    "import matplotlib.pyplot as pt\n",
    "import random\n",
    "from sklearn import linear_model as lin\n",
    "from sklearn.cross_validation import train_test_split \n",
    "\n",
    "#Error cuadratico medio\n",
    "def errorCM(ws, xs, ys):\n",
    "    res = 0\n",
    "#Recordar que .shape me da el vector con las dimensiones (Filas y Columnas del arreglo)\n",
    "#y .iloc me transforma los índices en enteros\n",
    "    for i in range (0,xs.shape[0]):\n",
    "        y = ws[0] + (ws[1:] * xs.iloc[i]).sum()\n",
    "        res += y - ys.iloc[i]\n",
    "    return (res/xs.shape[0])**2\n",
    "#Genero el dataframe\n",
    "df = pd.read_csv(\"regLinPoli.txt\")\n",
    "#Divido mi conjunto de datos\n",
    "X_train, X_test, Y_train, Y_test = train_test_split(df[df.columns[0:-1]],df[df.columns[-1]], train_size=0.75)\n",
    "\n",
    "#Estandarizo\n",
    "X_train = (X_train - X_train.mean()) / X_train.std()\n",
    "Y_train = (Y_train - Y_train.mean()) / Y_train.std()\n",
    "\n",
    "#Defino los parámetros a utilizar\n",
    "eta = 0.01\n",
    "x0 = 1\n",
    "rmax = 3\n",
    "\n",
    "#Regularizamos e iteramos sobre el shrinkage parameter l\n",
    "ldom = np.arange(0,0.1,0.002)\n",
    "err = []\n",
    "\n",
    "for l in ldom:\n",
    "    ws = [random.randint(0,rmax) for i in range (0,X_train.shape[1] + 1)]\n",
    "    for i in range (0,X_train.shape[0]):\n",
    "        v = ws[0]*x0 + (ws[1:]*X_train.iloc[i]).sum()\n",
    "        t = (Y_train.iloc[i] - v)\n",
    "        ws[0] = (ws[0]) + x0 * t\n",
    "        ws[1:] = [(ws[j]) + (X_train.iloc[i].iloc[j-1] * t * eta) - (ws[j] * l) for j in range(1,len(ws))]\n",
    "    err.append(errorCM(ws,X_train,Y_train))\n",
    "\n",
    "print \"Valor mínimo del error: \" + str(min(err))\n",
    "pt.plot(err)\n",
    "axes = pt.gca()\n",
    "axes.set_xlim([0,10])\n",
    "axes.set_ylim([0,.2])\n",
    "pt.show()"
   ]
  },
  {
   "cell_type": "code",
   "execution_count": null,
   "metadata": {
    "collapsed": true
   },
   "outputs": [],
   "source": []
  }
 ],
 "metadata": {
  "kernelspec": {
   "display_name": "Python 2",
   "language": "python",
   "name": "python2"
  },
  "language_info": {
   "codemirror_mode": {
    "name": "ipython",
    "version": 2
   },
   "file_extension": ".py",
   "mimetype": "text/x-python",
   "name": "python",
   "nbconvert_exporter": "python",
   "pygments_lexer": "ipython2",
   "version": "2.7"
  }
 },
 "nbformat": 4,
 "nbformat_minor": 2
}
